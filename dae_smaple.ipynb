{
 "cells": [
  {
   "cell_type": "code",
   "execution_count": 1,
   "id": "initial_id",
   "metadata": {
    "collapsed": true,
    "ExecuteTime": {
     "end_time": "2023-10-30T08:47:45.879438300Z",
     "start_time": "2023-10-30T08:47:42.187572500Z"
    }
   },
   "outputs": [],
   "source": [
    "import tensorflow as tf\n",
    "import numpy as np\n",
    "import matplotlib.pyplot as plt\n",
    "from keras.datasets import mnist"
   ]
  },
  {
   "cell_type": "code",
   "execution_count": 2,
   "outputs": [],
   "source": [
    "class DenoisingAutoencoder(tf.keras.Model):\n",
    "    def __init__(self, input_size, CHANNEL_1=16, CHANNEL_2=8, CHANNEL_OUTPUT=1, Name=\"cae\"):\n",
    "        super(DenoisingAutoencoder, self).__init__(name=Name)\n",
    "\n",
    "        self.encoder = tf.keras.Sequential([\n",
    "            tf.keras.layers.Conv2D(CHANNEL_1, (3, 3), activation='relu', padding=\"same\", input_shape=(input_size, input_size, 1)),\n",
    "            tf.keras.layers.MaxPooling2D((2, 2), padding='same'),\n",
    "            tf.keras.layers.Conv2D(CHANNEL_2, (3, 3), activation='relu', padding='same'),\n",
    "            tf.keras.layers.MaxPooling2D((2, 2), padding='same')\n",
    "        ])\n",
    "\n",
    "        self.decoder = tf.keras.Sequential([\n",
    "            tf.keras.layers.Conv2D(CHANNEL_2, (3, 3), activation='relu', padding='same'),\n",
    "            tf.keras.layers.UpSampling2D((2, 2)),\n",
    "            tf.keras.layers.Conv2D(CHANNEL_1, (3, 3), activation='relu', padding='same'),\n",
    "            tf.keras.layers.UpSampling2D((2, 2)),\n",
    "            tf.keras.layers.Conv2D(CHANNEL_OUTPUT, (3, 3), activation='sigmoid', padding='same')\n",
    "        ])\n",
    "\n",
    "        self.sl = tf.keras.Sequential([\n",
    "            tf.keras.layers.Flatten(),\n",
    "            tf.keras.layers.Dense(10, activation='softmax')\n",
    "        ])\n",
    "\n",
    "    def call(self, inputs, training=False):\n",
    "        if training:\n",
    "            noise = tf.keras.backend.random_bernoulli(shape=tf.shape(inputs), p=0.5)\n",
    "            inputs = inputs * noise\n",
    "        encoded = self.encoder(inputs)\n",
    "        decoded = self.decoder(encoded)\n",
    "        sl_output = self.sl(decoded)\n",
    "        return decoded, sl_output\n",
    "\n",
    "    def model(self):\n",
    "        x = tf.keras.layers.Input(shape=(28, 28, 1))\n",
    "        return tf.keras.Model(inputs=[x], outputs=self.call(x))\n"
   ],
   "metadata": {
    "collapsed": false,
    "ExecuteTime": {
     "end_time": "2023-10-30T08:47:45.895519600Z",
     "start_time": "2023-10-30T08:47:45.879438300Z"
    }
   },
   "id": "9df1c2b8ae3228ea"
  },
  {
   "cell_type": "markdown",
   "source": [
    "# Load and preprocess MNIST dataset"
   ],
   "metadata": {
    "collapsed": false
   },
   "id": "774485aae6c63aaf"
  },
  {
   "cell_type": "code",
   "execution_count": 3,
   "outputs": [
    {
     "name": "stdout",
     "output_type": "stream",
     "text": [
      "(60000, 28, 28)\n"
     ]
    }
   ],
   "source": [
    "(x_train, y_train), (x_test, y_test) = mnist.load_data()\n",
    "print(x_train.shape)\n",
    "x_train = x_train.astype('float32') / 255.\n",
    "x_test = x_test.astype('float32') / 255.\n",
    "x_train = x_train.reshape((-1, 28, 28, 1))\n",
    "x_test = x_test.reshape((-1, 28, 28, 1))"
   ],
   "metadata": {
    "collapsed": false,
    "ExecuteTime": {
     "end_time": "2023-10-30T08:47:50.354622200Z",
     "start_time": "2023-10-30T08:47:50.065779600Z"
    }
   },
   "id": "2073fd77c93ad013"
  },
  {
   "cell_type": "markdown",
   "source": [
    "# Create model"
   ],
   "metadata": {
    "collapsed": false
   },
   "id": "ef47f798215221d6"
  },
  {
   "cell_type": "code",
   "execution_count": 4,
   "outputs": [],
   "source": [
    "dae = DenoisingAutoencoder(x_train.shape[1])"
   ],
   "metadata": {
    "collapsed": false,
    "ExecuteTime": {
     "end_time": "2023-10-30T08:47:52.879411400Z",
     "start_time": "2023-10-30T08:47:52.225014500Z"
    }
   },
   "id": "935cecb2d9314010"
  },
  {
   "cell_type": "markdown",
   "source": [
    "# Compile model"
   ],
   "metadata": {
    "collapsed": false
   },
   "id": "b48d20bd50577a"
  },
  {
   "cell_type": "code",
   "execution_count": 5,
   "outputs": [],
   "source": [
    "dae = dae.model()\n",
    "dae.compile(optimizer='adam', loss=['binary_crossentropy', 'sparse_categorical_crossentropy'], metrics=['accuracy'])"
   ],
   "metadata": {
    "collapsed": false,
    "ExecuteTime": {
     "end_time": "2023-10-30T08:47:56.592362600Z",
     "start_time": "2023-10-30T08:47:56.510797400Z"
    }
   },
   "id": "93b92655cc7d498f"
  },
  {
   "cell_type": "markdown",
   "source": [
    "# Train the model"
   ],
   "metadata": {
    "collapsed": false
   },
   "id": "2555b02a1c7e9bf3"
  },
  {
   "cell_type": "code",
   "execution_count": 6,
   "outputs": [
    {
     "name": "stdout",
     "output_type": "stream",
     "text": [
      "Epoch 1/50\n",
      "235/235 [==============================] - 5s 9ms/step - loss: 1.2768 - sequential_1_loss: 0.3018 - sequential_2_loss: 0.9750 - sequential_1_accuracy: 0.7696 - sequential_2_accuracy: 0.7024 - val_loss: 0.5807 - val_sequential_1_loss: 0.2053 - val_sequential_2_loss: 0.3754 - val_sequential_1_accuracy: 0.7805 - val_sequential_2_accuracy: 0.9021\n",
      "Epoch 2/50\n",
      "235/235 [==============================] - 2s 7ms/step - loss: 0.5089 - sequential_1_loss: 0.1895 - sequential_2_loss: 0.3195 - sequential_1_accuracy: 0.7881 - sequential_2_accuracy: 0.9153 - val_loss: 0.4086 - val_sequential_1_loss: 0.1753 - val_sequential_2_loss: 0.2334 - val_sequential_1_accuracy: 0.7931 - val_sequential_2_accuracy: 0.9404\n",
      "Epoch 3/50\n",
      "235/235 [==============================] - 2s 7ms/step - loss: 0.4010 - sequential_1_loss: 0.1700 - sequential_2_loss: 0.2309 - sequential_1_accuracy: 0.7955 - sequential_2_accuracy: 0.9372 - val_loss: 0.3494 - val_sequential_1_loss: 0.1670 - val_sequential_2_loss: 0.1824 - val_sequential_1_accuracy: 0.7933 - val_sequential_2_accuracy: 0.9504\n",
      "Epoch 4/50\n",
      "235/235 [==============================] - 2s 7ms/step - loss: 0.3481 - sequential_1_loss: 0.1594 - sequential_2_loss: 0.1887 - sequential_1_accuracy: 0.7993 - sequential_2_accuracy: 0.9477 - val_loss: 0.3096 - val_sequential_1_loss: 0.1529 - val_sequential_2_loss: 0.1567 - val_sequential_1_accuracy: 0.7998 - val_sequential_2_accuracy: 0.9565\n",
      "Epoch 5/50\n",
      "235/235 [==============================] - 2s 7ms/step - loss: 0.3159 - sequential_1_loss: 0.1527 - sequential_2_loss: 0.1632 - sequential_1_accuracy: 0.8015 - sequential_2_accuracy: 0.9545 - val_loss: 0.2897 - val_sequential_1_loss: 0.1486 - val_sequential_2_loss: 0.1411 - val_sequential_1_accuracy: 0.8002 - val_sequential_2_accuracy: 0.9593\n",
      "Epoch 6/50\n",
      "235/235 [==============================] - 2s 7ms/step - loss: 0.2946 - sequential_1_loss: 0.1485 - sequential_2_loss: 0.1461 - sequential_1_accuracy: 0.8029 - sequential_2_accuracy: 0.9590 - val_loss: 0.2673 - val_sequential_1_loss: 0.1449 - val_sequential_2_loss: 0.1223 - val_sequential_1_accuracy: 0.8027 - val_sequential_2_accuracy: 0.9654\n",
      "Epoch 7/50\n",
      "235/235 [==============================] - 2s 7ms/step - loss: 0.2765 - sequential_1_loss: 0.1445 - sequential_2_loss: 0.1320 - sequential_1_accuracy: 0.8042 - sequential_2_accuracy: 0.9632 - val_loss: 0.2570 - val_sequential_1_loss: 0.1442 - val_sequential_2_loss: 0.1128 - val_sequential_1_accuracy: 0.8025 - val_sequential_2_accuracy: 0.9666\n",
      "Epoch 8/50\n",
      "235/235 [==============================] - 2s 7ms/step - loss: 0.2653 - sequential_1_loss: 0.1427 - sequential_2_loss: 0.1226 - sequential_1_accuracy: 0.8048 - sequential_2_accuracy: 0.9656 - val_loss: 0.2516 - val_sequential_1_loss: 0.1441 - val_sequential_2_loss: 0.1074 - val_sequential_1_accuracy: 0.8046 - val_sequential_2_accuracy: 0.9686\n",
      "Epoch 9/50\n",
      "235/235 [==============================] - 2s 7ms/step - loss: 0.2537 - sequential_1_loss: 0.1402 - sequential_2_loss: 0.1135 - sequential_1_accuracy: 0.8055 - sequential_2_accuracy: 0.9684 - val_loss: 0.2369 - val_sequential_1_loss: 0.1363 - val_sequential_2_loss: 0.1007 - val_sequential_1_accuracy: 0.8065 - val_sequential_2_accuracy: 0.9727\n",
      "Epoch 10/50\n",
      "235/235 [==============================] - 2s 7ms/step - loss: 0.2442 - sequential_1_loss: 0.1386 - sequential_2_loss: 0.1057 - sequential_1_accuracy: 0.8061 - sequential_2_accuracy: 0.9701 - val_loss: 0.2339 - val_sequential_1_loss: 0.1362 - val_sequential_2_loss: 0.0977 - val_sequential_1_accuracy: 0.8077 - val_sequential_2_accuracy: 0.9735\n",
      "Epoch 11/50\n",
      "235/235 [==============================] - 2s 7ms/step - loss: 0.2370 - sequential_1_loss: 0.1365 - sequential_2_loss: 0.1005 - sequential_1_accuracy: 0.8067 - sequential_2_accuracy: 0.9721 - val_loss: 0.2234 - val_sequential_1_loss: 0.1332 - val_sequential_2_loss: 0.0902 - val_sequential_1_accuracy: 0.8071 - val_sequential_2_accuracy: 0.9748\n",
      "Epoch 12/50\n",
      "235/235 [==============================] - 2s 7ms/step - loss: 0.2310 - sequential_1_loss: 0.1350 - sequential_2_loss: 0.0960 - sequential_1_accuracy: 0.8071 - sequential_2_accuracy: 0.9729 - val_loss: 0.2232 - val_sequential_1_loss: 0.1350 - val_sequential_2_loss: 0.0882 - val_sequential_1_accuracy: 0.8051 - val_sequential_2_accuracy: 0.9749\n",
      "Epoch 13/50\n",
      "235/235 [==============================] - 2s 7ms/step - loss: 0.2246 - sequential_1_loss: 0.1340 - sequential_2_loss: 0.0905 - sequential_1_accuracy: 0.8074 - sequential_2_accuracy: 0.9745 - val_loss: 0.2151 - val_sequential_1_loss: 0.1315 - val_sequential_2_loss: 0.0837 - val_sequential_1_accuracy: 0.8070 - val_sequential_2_accuracy: 0.9752\n",
      "Epoch 14/50\n",
      "235/235 [==============================] - 2s 7ms/step - loss: 0.2204 - sequential_1_loss: 0.1324 - sequential_2_loss: 0.0880 - sequential_1_accuracy: 0.8077 - sequential_2_accuracy: 0.9750 - val_loss: 0.2241 - val_sequential_1_loss: 0.1326 - val_sequential_2_loss: 0.0915 - val_sequential_1_accuracy: 0.8085 - val_sequential_2_accuracy: 0.9736\n",
      "Epoch 15/50\n",
      "235/235 [==============================] - 2s 7ms/step - loss: 0.2159 - sequential_1_loss: 0.1314 - sequential_2_loss: 0.0845 - sequential_1_accuracy: 0.8080 - sequential_2_accuracy: 0.9754 - val_loss: 0.2079 - val_sequential_1_loss: 0.1297 - val_sequential_2_loss: 0.0782 - val_sequential_1_accuracy: 0.8075 - val_sequential_2_accuracy: 0.9761\n",
      "Epoch 16/50\n",
      "235/235 [==============================] - 2s 7ms/step - loss: 0.2122 - sequential_1_loss: 0.1304 - sequential_2_loss: 0.0818 - sequential_1_accuracy: 0.8083 - sequential_2_accuracy: 0.9767 - val_loss: 0.2077 - val_sequential_1_loss: 0.1272 - val_sequential_2_loss: 0.0805 - val_sequential_1_accuracy: 0.8080 - val_sequential_2_accuracy: 0.9749\n",
      "Epoch 17/50\n",
      "235/235 [==============================] - 2s 7ms/step - loss: 0.2081 - sequential_1_loss: 0.1290 - sequential_2_loss: 0.0791 - sequential_1_accuracy: 0.8085 - sequential_2_accuracy: 0.9772 - val_loss: 0.2057 - val_sequential_1_loss: 0.1296 - val_sequential_2_loss: 0.0761 - val_sequential_1_accuracy: 0.8071 - val_sequential_2_accuracy: 0.9762\n",
      "Epoch 18/50\n",
      "235/235 [==============================] - 2s 7ms/step - loss: 0.2058 - sequential_1_loss: 0.1288 - sequential_2_loss: 0.0770 - sequential_1_accuracy: 0.8087 - sequential_2_accuracy: 0.9780 - val_loss: 0.2141 - val_sequential_1_loss: 0.1302 - val_sequential_2_loss: 0.0839 - val_sequential_1_accuracy: 0.8081 - val_sequential_2_accuracy: 0.9739\n",
      "Epoch 19/50\n",
      "235/235 [==============================] - 2s 7ms/step - loss: 0.2039 - sequential_1_loss: 0.1285 - sequential_2_loss: 0.0754 - sequential_1_accuracy: 0.8088 - sequential_2_accuracy: 0.9779 - val_loss: 0.2029 - val_sequential_1_loss: 0.1267 - val_sequential_2_loss: 0.0762 - val_sequential_1_accuracy: 0.8088 - val_sequential_2_accuracy: 0.9767\n",
      "Epoch 20/50\n",
      "235/235 [==============================] - 2s 7ms/step - loss: 0.1995 - sequential_1_loss: 0.1269 - sequential_2_loss: 0.0725 - sequential_1_accuracy: 0.8091 - sequential_2_accuracy: 0.9790 - val_loss: 0.2014 - val_sequential_1_loss: 0.1269 - val_sequential_2_loss: 0.0745 - val_sequential_1_accuracy: 0.8068 - val_sequential_2_accuracy: 0.9764\n",
      "Epoch 21/50\n",
      "235/235 [==============================] - 2s 7ms/step - loss: 0.1963 - sequential_1_loss: 0.1263 - sequential_2_loss: 0.0700 - sequential_1_accuracy: 0.8092 - sequential_2_accuracy: 0.9798 - val_loss: 0.1974 - val_sequential_1_loss: 0.1265 - val_sequential_2_loss: 0.0709 - val_sequential_1_accuracy: 0.8074 - val_sequential_2_accuracy: 0.9777\n",
      "Epoch 22/50\n",
      "235/235 [==============================] - 2s 7ms/step - loss: 0.1947 - sequential_1_loss: 0.1259 - sequential_2_loss: 0.0688 - sequential_1_accuracy: 0.8093 - sequential_2_accuracy: 0.9797 - val_loss: 0.1940 - val_sequential_1_loss: 0.1229 - val_sequential_2_loss: 0.0711 - val_sequential_1_accuracy: 0.8086 - val_sequential_2_accuracy: 0.9775\n",
      "Epoch 23/50\n",
      "235/235 [==============================] - 2s 7ms/step - loss: 0.1938 - sequential_1_loss: 0.1259 - sequential_2_loss: 0.0680 - sequential_1_accuracy: 0.8094 - sequential_2_accuracy: 0.9805 - val_loss: 0.1938 - val_sequential_1_loss: 0.1238 - val_sequential_2_loss: 0.0700 - val_sequential_1_accuracy: 0.8079 - val_sequential_2_accuracy: 0.9774\n",
      "Epoch 24/50\n",
      "235/235 [==============================] - 2s 7ms/step - loss: 0.1899 - sequential_1_loss: 0.1246 - sequential_2_loss: 0.0653 - sequential_1_accuracy: 0.8096 - sequential_2_accuracy: 0.9808 - val_loss: 0.1945 - val_sequential_1_loss: 0.1229 - val_sequential_2_loss: 0.0716 - val_sequential_1_accuracy: 0.8093 - val_sequential_2_accuracy: 0.9774\n",
      "Epoch 25/50\n",
      "235/235 [==============================] - 2s 7ms/step - loss: 0.1892 - sequential_1_loss: 0.1240 - sequential_2_loss: 0.0651 - sequential_1_accuracy: 0.8098 - sequential_2_accuracy: 0.9807 - val_loss: 0.1929 - val_sequential_1_loss: 0.1229 - val_sequential_2_loss: 0.0700 - val_sequential_1_accuracy: 0.8093 - val_sequential_2_accuracy: 0.9777\n",
      "Epoch 26/50\n",
      "235/235 [==============================] - 2s 7ms/step - loss: 0.1865 - sequential_1_loss: 0.1234 - sequential_2_loss: 0.0631 - sequential_1_accuracy: 0.8099 - sequential_2_accuracy: 0.9816 - val_loss: 0.1925 - val_sequential_1_loss: 0.1212 - val_sequential_2_loss: 0.0713 - val_sequential_1_accuracy: 0.8094 - val_sequential_2_accuracy: 0.9774\n",
      "Epoch 27/50\n",
      "235/235 [==============================] - 2s 7ms/step - loss: 0.1842 - sequential_1_loss: 0.1229 - sequential_2_loss: 0.0613 - sequential_1_accuracy: 0.8100 - sequential_2_accuracy: 0.9822 - val_loss: 0.2009 - val_sequential_1_loss: 0.1258 - val_sequential_2_loss: 0.0752 - val_sequential_1_accuracy: 0.8109 - val_sequential_2_accuracy: 0.9775\n",
      "Epoch 28/50\n",
      "235/235 [==============================] - 2s 7ms/step - loss: 0.1847 - sequential_1_loss: 0.1230 - sequential_2_loss: 0.0617 - sequential_1_accuracy: 0.8100 - sequential_2_accuracy: 0.9821 - val_loss: 0.1889 - val_sequential_1_loss: 0.1210 - val_sequential_2_loss: 0.0679 - val_sequential_1_accuracy: 0.8100 - val_sequential_2_accuracy: 0.9793\n",
      "Epoch 29/50\n",
      "235/235 [==============================] - 2s 7ms/step - loss: 0.1821 - sequential_1_loss: 0.1224 - sequential_2_loss: 0.0598 - sequential_1_accuracy: 0.8101 - sequential_2_accuracy: 0.9824 - val_loss: 0.1889 - val_sequential_1_loss: 0.1187 - val_sequential_2_loss: 0.0702 - val_sequential_1_accuracy: 0.8103 - val_sequential_2_accuracy: 0.9788\n",
      "Epoch 30/50\n",
      "235/235 [==============================] - 2s 7ms/step - loss: 0.1796 - sequential_1_loss: 0.1214 - sequential_2_loss: 0.0582 - sequential_1_accuracy: 0.8102 - sequential_2_accuracy: 0.9826 - val_loss: 0.1853 - val_sequential_1_loss: 0.1214 - val_sequential_2_loss: 0.0638 - val_sequential_1_accuracy: 0.8102 - val_sequential_2_accuracy: 0.9802\n",
      "Epoch 31/50\n",
      "235/235 [==============================] - 2s 7ms/step - loss: 0.1803 - sequential_1_loss: 0.1214 - sequential_2_loss: 0.0590 - sequential_1_accuracy: 0.8103 - sequential_2_accuracy: 0.9825 - val_loss: 0.1844 - val_sequential_1_loss: 0.1211 - val_sequential_2_loss: 0.0633 - val_sequential_1_accuracy: 0.8098 - val_sequential_2_accuracy: 0.9795\n",
      "Epoch 32/50\n",
      "235/235 [==============================] - 2s 7ms/step - loss: 0.1777 - sequential_1_loss: 0.1211 - sequential_2_loss: 0.0566 - sequential_1_accuracy: 0.8103 - sequential_2_accuracy: 0.9830 - val_loss: 0.1860 - val_sequential_1_loss: 0.1209 - val_sequential_2_loss: 0.0651 - val_sequential_1_accuracy: 0.8099 - val_sequential_2_accuracy: 0.9793\n",
      "Epoch 33/50\n",
      "235/235 [==============================] - 2s 7ms/step - loss: 0.1765 - sequential_1_loss: 0.1205 - sequential_2_loss: 0.0560 - sequential_1_accuracy: 0.8104 - sequential_2_accuracy: 0.9835 - val_loss: 0.1841 - val_sequential_1_loss: 0.1203 - val_sequential_2_loss: 0.0638 - val_sequential_1_accuracy: 0.8104 - val_sequential_2_accuracy: 0.9799\n",
      "Epoch 34/50\n",
      "235/235 [==============================] - 2s 7ms/step - loss: 0.1733 - sequential_1_loss: 0.1197 - sequential_2_loss: 0.0535 - sequential_1_accuracy: 0.8105 - sequential_2_accuracy: 0.9845 - val_loss: 0.1823 - val_sequential_1_loss: 0.1185 - val_sequential_2_loss: 0.0638 - val_sequential_1_accuracy: 0.8101 - val_sequential_2_accuracy: 0.9795\n",
      "Epoch 35/50\n",
      "235/235 [==============================] - 2s 7ms/step - loss: 0.1738 - sequential_1_loss: 0.1200 - sequential_2_loss: 0.0538 - sequential_1_accuracy: 0.8106 - sequential_2_accuracy: 0.9841 - val_loss: 0.1817 - val_sequential_1_loss: 0.1187 - val_sequential_2_loss: 0.0631 - val_sequential_1_accuracy: 0.8094 - val_sequential_2_accuracy: 0.9795\n",
      "Epoch 36/50\n",
      "235/235 [==============================] - 2s 7ms/step - loss: 0.1718 - sequential_1_loss: 0.1192 - sequential_2_loss: 0.0526 - sequential_1_accuracy: 0.8107 - sequential_2_accuracy: 0.9843 - val_loss: 0.1831 - val_sequential_1_loss: 0.1188 - val_sequential_2_loss: 0.0643 - val_sequential_1_accuracy: 0.8091 - val_sequential_2_accuracy: 0.9792\n",
      "Epoch 37/50\n",
      "235/235 [==============================] - 2s 7ms/step - loss: 0.1703 - sequential_1_loss: 0.1188 - sequential_2_loss: 0.0515 - sequential_1_accuracy: 0.8107 - sequential_2_accuracy: 0.9847 - val_loss: 0.1836 - val_sequential_1_loss: 0.1197 - val_sequential_2_loss: 0.0640 - val_sequential_1_accuracy: 0.8110 - val_sequential_2_accuracy: 0.9803\n",
      "Epoch 38/50\n",
      "235/235 [==============================] - 2s 7ms/step - loss: 0.1708 - sequential_1_loss: 0.1191 - sequential_2_loss: 0.0517 - sequential_1_accuracy: 0.8108 - sequential_2_accuracy: 0.9847 - val_loss: 0.1831 - val_sequential_1_loss: 0.1178 - val_sequential_2_loss: 0.0653 - val_sequential_1_accuracy: 0.8101 - val_sequential_2_accuracy: 0.9803\n",
      "Epoch 39/50\n",
      "235/235 [==============================] - 2s 7ms/step - loss: 0.1676 - sequential_1_loss: 0.1181 - sequential_2_loss: 0.0494 - sequential_1_accuracy: 0.8109 - sequential_2_accuracy: 0.9856 - val_loss: 0.1782 - val_sequential_1_loss: 0.1168 - val_sequential_2_loss: 0.0614 - val_sequential_1_accuracy: 0.8102 - val_sequential_2_accuracy: 0.9802\n",
      "Epoch 40/50\n",
      "235/235 [==============================] - 2s 7ms/step - loss: 0.1669 - sequential_1_loss: 0.1180 - sequential_2_loss: 0.0488 - sequential_1_accuracy: 0.8109 - sequential_2_accuracy: 0.9854 - val_loss: 0.1787 - val_sequential_1_loss: 0.1168 - val_sequential_2_loss: 0.0620 - val_sequential_1_accuracy: 0.8104 - val_sequential_2_accuracy: 0.9801\n",
      "Epoch 41/50\n",
      "235/235 [==============================] - 2s 7ms/step - loss: 0.1661 - sequential_1_loss: 0.1178 - sequential_2_loss: 0.0483 - sequential_1_accuracy: 0.8110 - sequential_2_accuracy: 0.9861 - val_loss: 0.1820 - val_sequential_1_loss: 0.1179 - val_sequential_2_loss: 0.0641 - val_sequential_1_accuracy: 0.8102 - val_sequential_2_accuracy: 0.9799\n",
      "Epoch 42/50\n",
      "235/235 [==============================] - 2s 7ms/step - loss: 0.1652 - sequential_1_loss: 0.1173 - sequential_2_loss: 0.0479 - sequential_1_accuracy: 0.8110 - sequential_2_accuracy: 0.9858 - val_loss: 0.1769 - val_sequential_1_loss: 0.1157 - val_sequential_2_loss: 0.0612 - val_sequential_1_accuracy: 0.8108 - val_sequential_2_accuracy: 0.9803\n",
      "Epoch 43/50\n",
      "235/235 [==============================] - 2s 7ms/step - loss: 0.1643 - sequential_1_loss: 0.1172 - sequential_2_loss: 0.0471 - sequential_1_accuracy: 0.8111 - sequential_2_accuracy: 0.9861 - val_loss: 0.1781 - val_sequential_1_loss: 0.1157 - val_sequential_2_loss: 0.0624 - val_sequential_1_accuracy: 0.8098 - val_sequential_2_accuracy: 0.9806\n",
      "Epoch 44/50\n",
      "235/235 [==============================] - 2s 7ms/step - loss: 0.1628 - sequential_1_loss: 0.1164 - sequential_2_loss: 0.0464 - sequential_1_accuracy: 0.8112 - sequential_2_accuracy: 0.9866 - val_loss: 0.1781 - val_sequential_1_loss: 0.1163 - val_sequential_2_loss: 0.0618 - val_sequential_1_accuracy: 0.8104 - val_sequential_2_accuracy: 0.9797\n",
      "Epoch 45/50\n",
      "235/235 [==============================] - 2s 7ms/step - loss: 0.1626 - sequential_1_loss: 0.1168 - sequential_2_loss: 0.0458 - sequential_1_accuracy: 0.8111 - sequential_2_accuracy: 0.9863 - val_loss: 0.1791 - val_sequential_1_loss: 0.1156 - val_sequential_2_loss: 0.0635 - val_sequential_1_accuracy: 0.8097 - val_sequential_2_accuracy: 0.9812\n",
      "Epoch 46/50\n",
      "235/235 [==============================] - 2s 7ms/step - loss: 0.1610 - sequential_1_loss: 0.1162 - sequential_2_loss: 0.0448 - sequential_1_accuracy: 0.8112 - sequential_2_accuracy: 0.9869 - val_loss: 0.1802 - val_sequential_1_loss: 0.1189 - val_sequential_2_loss: 0.0613 - val_sequential_1_accuracy: 0.8114 - val_sequential_2_accuracy: 0.9809\n",
      "Epoch 47/50\n",
      "235/235 [==============================] - 2s 7ms/step - loss: 0.1609 - sequential_1_loss: 0.1163 - sequential_2_loss: 0.0446 - sequential_1_accuracy: 0.8112 - sequential_2_accuracy: 0.9868 - val_loss: 0.1853 - val_sequential_1_loss: 0.1171 - val_sequential_2_loss: 0.0682 - val_sequential_1_accuracy: 0.8107 - val_sequential_2_accuracy: 0.9784\n",
      "Epoch 48/50\n",
      "235/235 [==============================] - 2s 7ms/step - loss: 0.1613 - sequential_1_loss: 0.1161 - sequential_2_loss: 0.0451 - sequential_1_accuracy: 0.8113 - sequential_2_accuracy: 0.9864 - val_loss: 0.1815 - val_sequential_1_loss: 0.1183 - val_sequential_2_loss: 0.0632 - val_sequential_1_accuracy: 0.8110 - val_sequential_2_accuracy: 0.9795\n",
      "Epoch 49/50\n",
      "235/235 [==============================] - 2s 7ms/step - loss: 0.1589 - sequential_1_loss: 0.1159 - sequential_2_loss: 0.0430 - sequential_1_accuracy: 0.8112 - sequential_2_accuracy: 0.9874 - val_loss: 0.1761 - val_sequential_1_loss: 0.1128 - val_sequential_2_loss: 0.0633 - val_sequential_1_accuracy: 0.8108 - val_sequential_2_accuracy: 0.9805\n",
      "Epoch 50/50\n",
      "235/235 [==============================] - 2s 7ms/step - loss: 0.1566 - sequential_1_loss: 0.1151 - sequential_2_loss: 0.0416 - sequential_1_accuracy: 0.8114 - sequential_2_accuracy: 0.9879 - val_loss: 0.1774 - val_sequential_1_loss: 0.1167 - val_sequential_2_loss: 0.0607 - val_sequential_1_accuracy: 0.8112 - val_sequential_2_accuracy: 0.9797\n"
     ]
    }
   ],
   "source": [
    "history = dae.fit(x_train, [x_train, y_train], epochs=50, batch_size=256, shuffle=True, validation_data=(x_test, [x_test, y_test]))"
   ],
   "metadata": {
    "collapsed": false,
    "ExecuteTime": {
     "end_time": "2023-10-30T08:49:30.984279200Z",
     "start_time": "2023-10-30T08:48:02.813066400Z"
    }
   },
   "id": "e771b66ee99adafe"
  },
  {
   "cell_type": "markdown",
   "source": [
    "# Test the model"
   ],
   "metadata": {
    "collapsed": false
   },
   "id": "fd275f7018f12865"
  },
  {
   "cell_type": "code",
   "execution_count": 15,
   "outputs": [
    {
     "name": "stdout",
     "output_type": "stream",
     "text": [
      "(10000, 28, 28, 1)\n"
     ]
    }
   ],
   "source": [
    "x_test_noisy = x_test + 0.5 * np.random.normal(loc=0.0, scale=1.0, size=x_test.shape) \n",
    "x_test_noisy = np.clip(x_test_noisy, 0., 1.)\n",
    "decoded_imgs = dae(x_test_noisy)\n",
    "print(decoded_imgs[0].shape)"
   ],
   "metadata": {
    "collapsed": false,
    "ExecuteTime": {
     "end_time": "2023-10-30T09:28:46.853328600Z",
     "start_time": "2023-10-30T09:28:46.639421400Z"
    }
   },
   "id": "9f2f7193a76e68b8"
  },
  {
   "cell_type": "code",
   "execution_count": null,
   "outputs": [],
   "source": [
    "# save model\n",
    "dae.save('dae.h5')"
   ],
   "metadata": {
    "collapsed": false
   },
   "id": "2f75dfbd7173c092"
  },
  {
   "cell_type": "markdown",
   "source": [
    "# Plotting histograms of activations"
   ],
   "metadata": {
    "collapsed": false
   },
   "id": "2e6f24d757e11b20"
  },
  {
   "cell_type": "code",
   "execution_count": 8,
   "outputs": [
    {
     "data": {
      "text/plain": "<matplotlib.legend.Legend at 0x223a170bc10>"
     },
     "execution_count": 8,
     "metadata": {},
     "output_type": "execute_result"
    },
    {
     "data": {
      "text/plain": "<Figure size 2000x400 with 1 Axes>",
      "image/png": "[encoded data removed]"
     },
     "metadata": {},
     "output_type": "display_data"
    }
   ],
   "source": [
    "# plot histograms of val_loss and val_accuracy\n",
    "plt.figure(figsize=(20, 4))\n",
    "plt.subplot(1, 2, 1)\n",
    "plt.plot(history.history['loss'], label='train')\n",
    "plt.plot(history.history['val_loss'], label='test')\n",
    "plt.title('Loss')\n",
    "plt.legend()"
   ],
   "metadata": {
    "collapsed": false,
    "ExecuteTime": {
     "end_time": "2023-10-30T08:49:48.275781700Z",
     "start_time": "2023-10-30T08:49:48.135634900Z"
    }
   },
   "id": "7c5dedf6c4a51b2a"
  },
  {
   "cell_type": "markdown",
   "source": [
    "# Plotting original and reconstructed images"
   ],
   "metadata": {
    "collapsed": false
   },
   "id": "6e28837845483f21"
  },
  {
   "cell_type": "code",
   "execution_count": 12,
   "outputs": [
    {
     "ename": "ValueError",
     "evalue": "cannot reshape array of size 7840000 into shape (28,28)",
     "output_type": "error",
     "traceback": [
      "\u001B[1;31m---------------------------------------------------------------------------\u001B[0m",
      "\u001B[1;31mValueError\u001B[0m                                Traceback (most recent call last)",
      "Cell \u001B[1;32mIn[12], line 13\u001B[0m\n\u001B[0;32m     11\u001B[0m \u001B[38;5;66;03m# display reconstruction\u001B[39;00m\n\u001B[0;32m     12\u001B[0m ax \u001B[38;5;241m=\u001B[39m plt\u001B[38;5;241m.\u001B[39msubplot(\u001B[38;5;241m2\u001B[39m, n, i \u001B[38;5;241m+\u001B[39m \u001B[38;5;241m1\u001B[39m \u001B[38;5;241m+\u001B[39m n)\n\u001B[1;32m---> 13\u001B[0m plt\u001B[38;5;241m.\u001B[39mimshow(\u001B[43mdecoded_imgs\u001B[49m\u001B[43m[\u001B[49m\u001B[43mi\u001B[49m\u001B[43m]\u001B[49m\u001B[38;5;241;43m.\u001B[39;49m\u001B[43mnumpy\u001B[49m\u001B[43m(\u001B[49m\u001B[43m)\u001B[49m\u001B[38;5;241;43m.\u001B[39;49m\u001B[43mreshape\u001B[49m\u001B[43m(\u001B[49m\u001B[38;5;241;43m28\u001B[39;49m\u001B[43m,\u001B[49m\u001B[43m \u001B[49m\u001B[38;5;241;43m28\u001B[39;49m\u001B[43m)\u001B[49m)\n\u001B[0;32m     14\u001B[0m plt\u001B[38;5;241m.\u001B[39mgray()\n\u001B[0;32m     15\u001B[0m ax\u001B[38;5;241m.\u001B[39mget_xaxis()\u001B[38;5;241m.\u001B[39mset_visible(\u001B[38;5;28;01mFalse\u001B[39;00m)\n",
      "\u001B[1;31mValueError\u001B[0m: cannot reshape array of size 7840000 into shape (28,28)"
     ]
    },
    {
     "data": {
      "text/plain": "<Figure size 2000x400 with 2 Axes>",
      "image/png": "[encoded data removed]"
     },
     "metadata": {},
     "output_type": "display_data"
    }
   ],
   "source": [
    "n = 10  # how many digits we will display\n",
    "plt.figure(figsize=(20, 4))\n",
    "for i in range(n):\n",
    "    # display original\n",
    "    ax = plt.subplot(2, n, i + 1)\n",
    "    plt.imshow(x_test_noisy[i].reshape(28, 28))\n",
    "    plt.gray()\n",
    "    ax.get_xaxis().set_visible(False)\n",
    "    ax.get_yaxis().set_visible(False)\n",
    "\n",
    "    # display reconstruction\n",
    "    ax = plt.subplot(2, n, i + 1 + n)\n",
    "    plt.imshow(decoded_imgs[i].numpy().reshape(28, 28))\n",
    "    plt.gray()\n",
    "    ax.get_xaxis().set_visible(False)\n",
    "    ax.get_yaxis().set_visible(False)\n",
    "plt.show()"
   ],
   "metadata": {
    "collapsed": false,
    "ExecuteTime": {
     "end_time": "2023-10-30T09:26:48.912311600Z",
     "start_time": "2023-10-30T09:26:48.798261800Z"
    }
   },
   "id": "88de699100aed46a"
  },
  {
   "cell_type": "code",
   "execution_count": 27,
   "outputs": [],
   "source": [],
   "metadata": {
    "collapsed": false,
    "ExecuteTime": {
     "end_time": "2023-10-30T08:45:35.207128600Z",
     "start_time": "2023-10-30T08:45:35.187076600Z"
    }
   },
   "id": "af4626c3b978b56a"
  }
 ],
 "metadata": {
  "kernelspec": {
   "display_name": "Python 3",
   "language": "python",
   "name": "python3"
  },
  "language_info": {
   "codemirror_mode": {
    "name": "ipython",
    "version": 2
   },
   "file_extension": ".py",
   "mimetype": "text/x-python",
   "name": "python",
   "nbconvert_exporter": "python",
   "pygments_lexer": "ipython2",
   "version": "2.7.6"
  }
 },
 "nbformat": 4,
 "nbformat_minor": 5
}
